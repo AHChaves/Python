{
 "cells": [
  {
   "cell_type": "markdown",
   "metadata": {},
   "source": [
    "1 - Escreva um programa que lê N inteiros, salva-os em uma lista e usa as funções de lista para imprimir: a) A soma de todos os valores; b) A média dos valores digitados; c) O maior valor; d) O menor valor; e) A quantidade de zeros"
   ]
  },
  {
   "cell_type": "code",
   "execution_count": 2,
   "metadata": {},
   "outputs": [
    {
     "name": "stdout",
     "output_type": "stream",
     "text": [
      "Soma dos valores fornecidos: 15\n",
      "Média dos valores: 7.5\n",
      "Maior valor digitado: 10\n",
      "Menor valor digitado: 5\n",
      "Quantidade de zeros presentes na lista: 0\n"
     ]
    }
   ],
   "source": [
    "lista = [int(x) for x in input(\"Digite valores inteiros:\\n\").split()]\n",
    "\n",
    "print(f\"Soma dos valores fornecidos: {sum(lista)}\")\n",
    "print(f\"Média dos valores: {sum(lista) / len(lista)}\")\n",
    "print(f\"Maior valor digitado: {max(lista)}\")\n",
    "print(f\"Menor valor digitado: {min(lista)}\")\n",
    "print(f\"Quantidade de zeros presentes na lista: {lista.count(0)}\")\n"
   ]
  },
  {
   "cell_type": "markdown",
   "metadata": {},
   "source": [
    "2 - Receba um número qualquer de palavras digitadas em uma única linha, sendo cada palavra separada por um espaço. Usando manipulação de strings, crie uma lista com as palavras digitadas. Imprima a lista ordenada alfabeticamente e os índices correspondentes na lista original."
   ]
  },
  {
   "cell_type": "code",
   "execution_count": 3,
   "metadata": {},
   "outputs": [
    {
     "name": "stdout",
     "output_type": "stream",
     "text": [
      "['arroz', 'batata', 'feijão']\n",
      "0 - arroz\n",
      "1 - batata\n",
      "2 - feijão\n"
     ]
    }
   ],
   "source": [
    "Palavras = input(\"Digite as suas palavras: \").split()\n",
    "\n",
    "Palavras.sort()\n",
    "\n",
    "print(Palavras)\n",
    "\n",
    "for palavra in Palavras:\n",
    "    print(f\"{Palavras.index(palavra)} - {palavra}\")\n"
   ]
  },
  {
   "cell_type": "markdown",
   "metadata": {},
   "source": [
    "3. Dada uma lista de entradas representando a pontuação de cada participante em uma competição, determine o índice do primeiro, segundo e terceiro colocado, acompanhado de suas pontuações. Em caso de empate considere os participantes com menor índice."
   ]
  },
  {
   "cell_type": "code",
   "execution_count": 4,
   "metadata": {},
   "outputs": [
    {
     "name": "stdout",
     "output_type": "stream",
     "text": [
      "1: 20\n",
      "0: 10\n",
      "4: 6\n"
     ]
    }
   ],
   "source": [
    "minAndMax = (0, 3)\n",
    "\n",
    "pontuacoes = [int(x) for x in input(\"Digite as pontuações: \").split()];\n",
    "Ordenadas = pontuacoes.copy()\n",
    "maioresPontuacoes = []\n",
    "\n",
    "\n",
    "Ordenadas.sort(reverse=True)\n",
    "\n",
    "for x in range(minAndMax[0], minAndMax[1]):\n",
    "    maiorPontuacao = Ordenadas.pop(0)\n",
    "    maioresPontuacoes.append(maiorPontuacao)\n",
    "\n",
    "    Ordenadas = list(filter(lambda pontuacao : pontuacao != maiorPontuacao, Ordenadas))\n",
    "\n",
    "for lugar in range(minAndMax[0], minAndMax[1]):\n",
    "    print(f\"{pontuacoes.index(maioresPontuacoes[lugar])}: {maioresPontuacoes[lugar]}\")"
   ]
  },
  {
   "cell_type": "markdown",
   "metadata": {},
   "source": [
    "4. Leia do usuário os nomes e preços de produtos eletrônicos. Crie uma lista com essas informações, de acordo com a estrutura a seguir"
   ]
  },
  {
   "cell_type": "code",
   "execution_count": 8,
   "metadata": {},
   "outputs": [
    {
     "name": "stdout",
     "output_type": "stream",
     "text": [
      "arroz  - 3000\n",
      "batata  - 200\n"
     ]
    }
   ],
   "source": [
    "import re;\n",
    "\n",
    "numItems = int(input())\n",
    "\n",
    "Inputs = []\n",
    "Nomes = []\n",
    "Valores = []\n",
    "\n",
    "for i in range(0, numItems):\n",
    "    item = input()\n",
    "    Inputs.append(item)\n",
    "\n",
    "Inputs.sort()\n",
    "\n",
    "for item in Inputs:\n",
    "\n",
    "    nome = re.match('[^.\\d]*', item)[0]\n",
    "\n",
    "    valor = re.split('[^.\\d]*', item)\n",
    "    valor = ''.join(str(x) for x in valor)\n",
    "\n",
    "    Nomes.append(nome)\n",
    "    Valores.append(valor)\n",
    "\n",
    "\n",
    "for index, nome in enumerate(Nomes):\n",
    "    print(f\"{nome} - {Valores[index]}\")"
   ]
  },
  {
   "cell_type": "markdown",
   "metadata": {},
   "source": [
    "5. Dada uma sequência de valores inteiros, imprima uma lista de cada contendo o quadrado de cada um dos valores. Os valores serão digitados em uma única linha, use manipulação de string para criar uma lista. Use compreensão de lista para converter os valores para inteiro e calcular o seu quadrado."
   ]
  },
  {
   "cell_type": "code",
   "execution_count": 10,
   "metadata": {},
   "outputs": [
    {
     "name": "stdout",
     "output_type": "stream",
     "text": [
      "[100, 3600, 2500, 8100, 25, 400, 9]\n"
     ]
    }
   ],
   "source": [
    "string = input('')\n",
    "lista = string.replace(',','').split(' ')\n",
    "\n",
    "for idx, num in enumerate(lista):\n",
    "    lista[idx] = int(num)**2\n",
    "\n",
    "print(lista)"
   ]
  },
  {
   "cell_type": "markdown",
   "metadata": {},
   "source": [
    "6. Dada uma entrada, crie uma lista de listas, que pode ser visualizada como uma matriz 2D. Calcule a soma dos valores da sua diagonal usando compreensão de listas."
   ]
  },
  {
   "cell_type": "code",
   "execution_count": 13,
   "metadata": {},
   "outputs": [
    {
     "name": "stdout",
     "output_type": "stream",
     "text": [
      "[['5', '10', '6', ''], ['2', '8', '9'], ['8', '33', '6']]\n",
      "19\n"
     ]
    }
   ],
   "source": [
    "lista=[]\n",
    "\n",
    "for i in range(0, 3):\n",
    "    valores = input()\n",
    "    valores = valores.split(' ')\n",
    "    lista.append(valores)\n",
    "\n",
    "print(lista)\n",
    "sum = 0\n",
    "\n",
    "for i in range(0, len(lista)):\n",
    "    sum += int(lista[i][i])\n",
    "\n",
    "print(sum)"
   ]
  },
  {
   "cell_type": "markdown",
   "metadata": {},
   "source": [
    "7. Escreva funções que recebem uma lista como entrada e realizam as\n",
    "instruções a seguir. No programa principal, leia os valores da lista em formato de string e escreva um menu que permita ao usuário escolher entre as funções. Retorne ao menu principal ao final de cada execução. Inclua uma opção “Sair” no seu menu, e encerre o programa somente quando o usuário selecionar essa opção.\n",
    "\n",
    "    1. length(): Pede um n do usuário e retorna a quantidade de\n",
    "elementos da lista de comprimento maior que n.\n",
    "\n",
    "    2. vogais(): Retorna uma lista com a quantidade vogais de cada\n",
    "elemento da lista de entrada.\n",
    "\n",
    "    3. group_by_length(): Retorna uma lista de listas, agrupando\n",
    "nomes com o mesmo comprimento.\n",
    "\n",
    "    4. encrypt(): Dada as seguintes regras de criptografia, retorne uma\n",
    "lista com os nomes criptografados, bem como a chave da criptografia (o valor aleatório gerado de acordo com as regras)."
   ]
  },
  {
   "cell_type": "code",
   "execution_count": 15,
   "metadata": {},
   "outputs": [
    {
     "name": "stdout",
     "output_type": "stream",
     "text": [
      "Selecione uma das opções abaixo:\n",
      "[1] - Length\n",
      "[2] - Vogais\n",
      "[3] - Group By\n",
      "[4] - Encrypt\n",
      "[0] - Encerrar o programa\n",
      "Até a próxima\n"
     ]
    }
   ],
   "source": [
    "import re;\n",
    "import random;\n",
    "\n",
    "PARAMETRO = [\"Luana\", \"Ju\", \"Davi\", \"Vivi\", \"Pri\", \"Cleo\"]\n",
    "\n",
    "def length(lista):\n",
    "    val = int(input('Digite um número n'))\n",
    "    maiorN = 0\n",
    "    for item in lista:\n",
    "        maiorN += 1 if len(item) > val else 0\n",
    "\n",
    "    return maiorN\n",
    "\n",
    "def vogais(lista):\n",
    "    numVogais = []\n",
    "\n",
    "    for item in lista:\n",
    "        resultado = re.findall('[aA,Ee,Ii,Oo,Uu]{1}', item)\n",
    "        numVogais.append(len(resultado))\n",
    "\n",
    "    return numVogais\n",
    "\n",
    "def group_by_legth(lista):\n",
    "    retorno = []\n",
    "    lista.sort(key = lambda x : len(x))\n",
    "\n",
    "    listaAux = lista.copy()\n",
    "\n",
    "    while len(listaAux) > 0:\n",
    "        conjunto = list(filter(lambda item : len(listaAux[0]) == len(item), listaAux))\n",
    "        retorno.append(conjunto)\n",
    "\n",
    "        for item in conjunto:\n",
    "            listaAux.remove(item)\n",
    "\n",
    "    return retorno\n",
    "\n",
    "def encrypt(lista):\n",
    "    key = random.randint(1, 10)\n",
    "    retorno = []\n",
    "\n",
    "    for indexItem, item in enumerate(lista):\n",
    "      string = ''\n",
    "      for indexLetra, letra in enumerate(item):\n",
    "        valorLetra = ord(letra)\n",
    "        valorLetra += key\n",
    "        string += chr(valorLetra)\n",
    "      retorno.append(string)\n",
    "\n",
    "    return f\"{retorno}, {key}\"\n",
    "\n",
    "encerrarPrograma = False\n",
    "\n",
    "while not encerrarPrograma:\n",
    "    print('Selecione uma das opções abaixo:\\n[1] - Length\\n[2] - Vogais\\n[3] - Group By\\n[4] - Encrypt\\n[0] - Encerrar o programa')\n",
    "    escolha = input()\n",
    "    \n",
    "    if escolha == '1':\n",
    "        print(length(PARAMETRO))\n",
    "    elif escolha == '2':\n",
    "        print(vogais(PARAMETRO))\n",
    "    elif escolha == '3':\n",
    "        print(group_by_legth(PARAMETRO))\n",
    "    elif escolha == '4':\n",
    "        print(encrypt(PARAMETRO))\n",
    "    elif escolha == '0':\n",
    "        print('Até a próxima')\n",
    "        encerrarPrograma = True\n",
    "    else:\n",
    "        print('Escolha inválida')"
   ]
  },
  {
   "cell_type": "code",
   "execution_count": null,
   "metadata": {},
   "outputs": [],
   "source": []
  }
 ],
 "metadata": {
  "interpreter": {
   "hash": "916dbcbb3f70747c44a77c7bcd40155683ae19c65e1c03b4aa3499c5328201f1"
  },
  "kernelspec": {
   "display_name": "Python 3.10.6 64-bit",
   "language": "python",
   "name": "python3"
  },
  "language_info": {
   "codemirror_mode": {
    "name": "ipython",
    "version": 3
   },
   "file_extension": ".py",
   "mimetype": "text/x-python",
   "name": "python",
   "nbconvert_exporter": "python",
   "pygments_lexer": "ipython3",
   "version": "3.10.6"
  },
  "orig_nbformat": 4
 },
 "nbformat": 4,
 "nbformat_minor": 2
}
