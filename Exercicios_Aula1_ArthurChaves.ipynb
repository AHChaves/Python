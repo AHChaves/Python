{
 "cells": [
  {
   "cell_type": "markdown",
   "metadata": {},
   "source": [
    "Faça um programa que solicite do usuário três números reais e imprima a soma deles\n",
    "com duas casas decimais de precisão."
   ]
  },
  {
   "cell_type": "code",
   "execution_count": 4,
   "metadata": {},
   "outputs": [
    {
     "name": "stdout",
     "output_type": "stream",
     "text": [
      "A soma é: 10.50\n"
     ]
    }
   ],
   "source": [
    "num1 = float(input(\"Valor 1: \"))\n",
    "num2 = float(input(\"Valor 2: \"))\n",
    "num3 = float(input(\"Valor 3: \"))\n",
    "sum = num1 + num2 + num3\n",
    "print(\"A soma é: %.2f\" % sum)"
   ]
  },
  {
   "cell_type": "markdown",
   "metadata": {},
   "source": [
    "Leia um valor real correspondente a uma temperatura em graus Celsius e apresente-a convertida em graus Fahrenheit. Antes de imprimir, converta o valor em Fahrenheit para inteiro.  \n",
    "Fórmula de conversão: F=C∗(9.0/5.0)+32.0, sendo C o valor em graus Celsius e F o valor em Fahrenheit."
   ]
  },
  {
   "cell_type": "code",
   "execution_count": 5,
   "metadata": {},
   "outputs": [
    {
     "name": "stdout",
     "output_type": "stream",
     "text": [
      "O valor em fahreinheit é : 89.60\n"
     ]
    }
   ],
   "source": [
    "tempCelsius = float(input(\"Temperatura em celsius: \"))\n",
    "tempFahrenheit = tempCelsius * (9./5.) + 32. \n",
    "print(\"O valor em fahreinheit é : %.2f\" % tempFahrenheit)"
   ]
  },
  {
   "cell_type": "markdown",
   "metadata": {},
   "source": [
    "Leia do usuário um valor em dólar e a cotação do dólar. Converta o valor de acordo com a cotação e imprima o valor convertido em reais.\n",
    "Formate a saída como apresentado a seguir:"
   ]
  },
  {
   "cell_type": "code",
   "execution_count": 12,
   "metadata": {},
   "outputs": [
    {
     "name": "stdout",
     "output_type": "stream",
     "text": [
      "Entrada              | Saida               \n",
      "100.0                | 30.581039755351682  \n",
      " 3.27                \n"
     ]
    }
   ],
   "source": [
    "valorDolar = float(input(\"O valor do dolar é: \"))\n",
    "cotacaoDolar = float(input(\"A cotação esta em: \"))\n",
    "valorReal = valorDolar/cotacaoDolar\n",
    "print(\"%-20s | %-20s\" % (\"Entrada\" , \"Saida\"))\n",
    "print(f\"{valorDolar:<-20} | {valorReal:<-20}\\n {cotacaoDolar:<-20}\")\n"
   ]
  },
  {
   "cell_type": "markdown",
   "metadata": {},
   "source": [
    "Uma empresa contrata um encanador a R$ 30,00 por dia. Faça um programa que solicite o número de dias trabalhados pelo encanador e imprima a quantia líquida que deverá se paga, \n",
    "sabendo-se que são descontados 8% para imposto de renda."
   ]
  },
  {
   "cell_type": "code",
   "execution_count": 15,
   "metadata": {},
   "outputs": [
    {
     "name": "stdout",
     "output_type": "stream",
     "text": [
      "O valor a pagar foi de 138.0\n"
     ]
    }
   ],
   "source": [
    "valorDia = 30. \n",
    "numDias = float(input(\"Quantos dias o encanador vai trabalhar: \"))\n",
    "total = valorDia * numDias\n",
    "total -= total * 8/ 100\n",
    "print(f\"O valor a pagar foi de {total}\") "
   ]
  },
  {
   "cell_type": "markdown",
   "metadata": {},
   "source": [
    "Considere que os valores (inteiros e positivos) para as variáveis a, b e c correspondem aos lados de um triângulo retângulo com catetos a e b, e hipotenusa c.\n",
    " Determinar a área do triângulo pela fórmula:"
   ]
  },
  {
   "cell_type": "code",
   "execution_count": 20,
   "metadata": {},
   "outputs": [
    {
     "name": "stdout",
     "output_type": "stream",
     "text": [
      "O valor da area é 14.696938456699069\n"
     ]
    }
   ],
   "source": [
    "from math import sqrt\n",
    "\n",
    "ladoA = float(input(\"Valor lado A: \"))\n",
    "ladoB = float(input(\"Valor do lado B: \"))\n",
    "ladoC= float(input(\"Valor do lado c: \"))\n",
    "\n",
    "s = (ladoA + ladoB + ladoC)/2\n",
    "area = s * (s - ladoA) * (s-ladoB) * (s-ladoC)\n",
    "area = sqrt(area)\n",
    "\n",
    "print(f\"O valor da area é {area:}\")"
   ]
  },
  {
   "cell_type": "markdown",
   "metadata": {},
   "source": [
    "Escreva um programa que, dados dois números inteiros, mostre na tela o maior deles, assim como a diferença existente entre ambos."
   ]
  },
  {
   "cell_type": "code",
   "execution_count": 21,
   "metadata": {},
   "outputs": [
    {
     "name": "stdout",
     "output_type": "stream",
     "text": [
      "O numero 2 é maior que o numero 1\n",
      "e a diferença entre eles é de 5\n"
     ]
    }
   ],
   "source": [
    "num1 = int(input(\"Numero 1: \"))\n",
    "num2 = int(input(\"Numero 2: \"))\n",
    "\n",
    "if(num1 < num2) :\n",
    "    print(\"O numero 2 é maior que o numero 1\\ne a diferença entre eles é de %d\" %(num2-num1))\n",
    "\n",
    "else :\n",
    "    print(\"O numero 1 é maior que o numero 2e a diferença entre eles é de %d\" %(num1-num2))"
   ]
  },
  {
   "cell_type": "markdown",
   "metadata": {},
   "source": [
    "Considere a seguinte definição de ano bissexto (ano em que o mês de fevereiro tem 29\n",
    "dias):\n",
    "\n",
    "• Um ano não divisível por 100 e divisível por 4 é bissexto;\n",
    "\n",
    "• Um ano divisível por 400 é bissexto;\n",
    "\n",
    "• Os demais anos não são bissextos.\n",
    "\n",
    "Escreva um programa que leia um ano do usuário e imprime se aquele é um ano bissexto."
   ]
  },
  {
   "cell_type": "code",
   "execution_count": 22,
   "metadata": {},
   "outputs": [
    {
     "name": "stdout",
     "output_type": "stream",
     "text": [
      "O ano 2000 é bissexto!!\n"
     ]
    }
   ],
   "source": [
    "ano = int(input(\"Informe um ano: \"))\n",
    "\n",
    "if(ano % 400 == 0) :\n",
    "    print(f\"O ano {ano} é bissexto!!\")\n",
    "else :\n",
    "    print(f\"O ano  {ano} não é bissexto\")\n",
    "    "
   ]
  },
  {
   "cell_type": "markdown",
   "metadata": {},
   "source": [
    "Faça um programa para verificar se um determinado número inteiro é divisível por 3 ou por 5, mas não simultaneamente pelos dois."
   ]
  },
  {
   "cell_type": "code",
   "execution_count": 24,
   "metadata": {},
   "outputs": [
    {
     "name": "stdout",
     "output_type": "stream",
     "text": [
      "divisivel por 5\n"
     ]
    }
   ],
   "source": [
    "numero = int(input(\"Informe o numero: \"))\n",
    "\n",
    "if(numero %3 ==0):\n",
    "    print(\"divisivel por 3\")\n",
    "elif(numero % 5 == 0):\n",
    "    print(\"divisivel por 5\")"
   ]
  },
  {
   "cell_type": "markdown",
   "metadata": {},
   "source": [
    "Leia a idade, o sexo (M ou F) e o tempo de serviço de um trabalhador e escreva se ele\n",
    "pode ou não se aposentar. As condições para aposentadoria são:\n",
    "\n",
    "• Para mulheres ter mais de 60 anos. Para homens, 65.\n",
    "\n",
    "• Ou ter trabalhado pelo menos 30 anos\n",
    "\n",
    "• Ou ter 60 anos e trabalhado pelo menos 25."
   ]
  },
  {
   "cell_type": "code",
   "execution_count": 25,
   "metadata": {},
   "outputs": [
    {
     "name": "stdout",
     "output_type": "stream",
     "text": [
      "Pode aposentar!!\n"
     ]
    }
   ],
   "source": [
    "idade = int(input(\"idade: \"))\n",
    "sexo = str(input(\"sexo: \"))\n",
    "tempoServico = int(input(\"Termpo de Serviço: \"))\n",
    "\n",
    "condicoes = (sexo == 'M' and idade <= 65) or (sexo == 'F' and idade <= 60) or (tempoServico <= 30) or (idade <= 60 and tempoServico <=25)\n",
    "\n",
    "if(condicoes):\n",
    "    print(\"Pode aposentar!!\")\n",
    "else:\n",
    "    print(\"Não aposenta\")\n"
   ]
  },
  {
   "cell_type": "markdown",
   "metadata": {},
   "source": [
    "Faça um programa que receba a altura e o peso de uma pessoa. De acordo com a tabela a seguir, verifique e mostre qual a classificação dessa pessoa."
   ]
  },
  {
   "cell_type": "code",
   "execution_count": 26,
   "metadata": {},
   "outputs": [
    {
     "name": "stdout",
     "output_type": "stream",
     "text": [
      "E\n"
     ]
    }
   ],
   "source": [
    "altura = float(input(\"Informe a altura: \"))\n",
    "peso = float(input(\"Informe o peso: \"))\n",
    "\n",
    "if(altura < 1.50):\n",
    "    if(peso < 60):\n",
    "        print(\"A\")\n",
    "    elif(peso >= 60 and peso <= 90):\n",
    "        print(\"D\")\n",
    "    elif(peso > 90):\n",
    "        print(\"G\")\n",
    "elif(altura >= 1.50 and altura <= 1.80):\n",
    "    if(peso < 60):\n",
    "        print(\"B\")\n",
    "    elif(peso >= 60 and peso <= 90):\n",
    "        print(\"E\")\n",
    "    elif(peso > 90):\n",
    "        print(\"H\")\n",
    "elif(altura > 1.80):\n",
    "    if(peso < 60):\n",
    "        print(\"C\")\n",
    "    elif(peso >= 60 and peso <= 90):\n",
    "        print(\"F\")\n",
    "    elif(peso > 90):\n",
    "        print(\"I\")"
   ]
  },
  {
   "cell_type": "markdown",
   "metadata": {},
   "source": [
    "Faça um menu que apresente quatro opções de média (Geométrica, Ponderada, Harmônica e Aritmética). Após o usuário selecionar a média desejada, solicite três números inteiros positivos e apresente o cálculo da média solicitada."
   ]
  },
  {
   "cell_type": "code",
   "execution_count": 27,
   "metadata": {},
   "outputs": [
    {
     "name": "stdout",
     "output_type": "stream",
     "text": [
      "O resultado é  20.0\n"
     ]
    }
   ],
   "source": [
    "escolha = int(input(\"1 - Geométrica\\n2 - Ponderada\\n3 - Harmõnica\\n4 - Aritmética\\nescolha:\"))\n",
    "\n",
    "num1 = float(input(\"Valor 1: \"))\n",
    "num2 = float(input(\"Valor 2: \"))\n",
    "num3 = float(input(\"Valor 3: \"))\n",
    "\n",
    "if(escolha == 1):\n",
    "    resultado = sqrt(num1 * num2 * num3)\n",
    "    print(f\"O resultado é  {resultado}\")\n",
    "elif(escolha == 2):\n",
    "    resultado = (num1+2 * num2+3 * num3)/6\n",
    "    print(f\"O resultado é  {resultado}\")\n",
    "elif(escolha == 3):\n",
    "    resultado = 1/((1/num1) + (1/num2) + (1/num3))\n",
    "    print(f\"O resultado é  {resultado}\")\n",
    "elif(escolha == 4):\n",
    "    resultado = (num1+num2+num3)/3\n",
    "    print(f\"O resultado é  {resultado}\")\n",
    "else: print(\"Escolha invalida\")"
   ]
  },
  {
   "cell_type": "markdown",
   "metadata": {},
   "source": [
    "Escreva um programa para cálculo do máximo divisor comum (MDC) entre dois números."
   ]
  },
  {
   "cell_type": "code",
   "execution_count": null,
   "metadata": {},
   "outputs": [],
   "source": []
  }
 ],
 "metadata": {
  "interpreter": {
   "hash": "916dbcbb3f70747c44a77c7bcd40155683ae19c65e1c03b4aa3499c5328201f1"
  },
  "kernelspec": {
   "display_name": "Python 3.10.6 64-bit",
   "language": "python",
   "name": "python3"
  },
  "language_info": {
   "codemirror_mode": {
    "name": "ipython",
    "version": 3
   },
   "file_extension": ".py",
   "mimetype": "text/x-python",
   "name": "python",
   "nbconvert_exporter": "python",
   "pygments_lexer": "ipython3",
   "version": "3.10.6"
  },
  "orig_nbformat": 4
 },
 "nbformat": 4,
 "nbformat_minor": 2
}
