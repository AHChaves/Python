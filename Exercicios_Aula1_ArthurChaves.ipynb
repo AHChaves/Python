{
 "cells": [
  {
   "cell_type": "markdown",
   "metadata": {},
   "source": [
    "Faça um programa que solicite do usuário três números reais e imprima a soma deles\n",
    "com duas casas decimais de precisão."
   ]
  },
  {
   "cell_type": "code",
   "execution_count": 4,
   "metadata": {},
   "outputs": [
    {
     "name": "stdout",
     "output_type": "stream",
     "text": [
      "A soma é: 10.50\n"
     ]
    }
   ],
   "source": [
    "num1 = float(input(\"Valor 1: \"))\n",
    "num2 = float(input(\"Valor 2: \"))\n",
    "num3 = float(input(\"Valor 3: \"))\n",
    "sum = num1 + num2 + num3\n",
    "print(\"A soma é: %.2f\" % sum)"
   ]
  },
  {
   "cell_type": "markdown",
   "metadata": {},
   "source": [
    "Leia um valor real correspondente a uma temperatura em graus Celsius e apresente-a convertida em graus Fahrenheit. Antes de imprimir, converta o valor em Fahrenheit para inteiro.  \n",
    "Fórmula de conversão: F=C∗(9.0/5.0)+32.0, sendo C o valor em graus Celsius e F o valor em Fahrenheit."
   ]
  },
  {
   "cell_type": "code",
   "execution_count": 5,
   "metadata": {},
   "outputs": [
    {
     "name": "stdout",
     "output_type": "stream",
     "text": [
      "O valor em fahreinheit é : 89.60\n"
     ]
    }
   ],
   "source": [
    "tempCelsius = float(input(\"Temperatura em celsius: \"))\n",
    "tempFahrenheit = tempCelsius * (9./5.) + 32. \n",
    "print(\"O valor em fahreinheit é : %.2f\" % tempFahrenheit)"
   ]
  },
  {
   "cell_type": "markdown",
   "metadata": {},
   "source": [
    "Leia do usuário um valor em dólar e a cotação do dólar. Converta o valor de acordo com a cotação e imprima o valor convertido em reais.\n",
    "Formate a saída como apresentado a seguir:"
   ]
  },
  {
   "cell_type": "code",
   "execution_count": 12,
   "metadata": {},
   "outputs": [
    {
     "name": "stdout",
     "output_type": "stream",
     "text": [
      "Entrada              | Saida               \n",
      "100.0                | 30.581039755351682  \n",
      " 3.27                \n"
     ]
    }
   ],
   "source": [
    "valorDolar = float(input(\"O valor do dolar é: \"))\n",
    "cotacaoDolar = float(input(\"A cotação esta em: \"))\n",
    "valorReal = valorDolar/cotacaoDolar\n",
    "print(\"%-20s | %-20s\" % (\"Entrada\" , \"Saida\"))\n",
    "print(f\"{valorDolar:<-20} | {valorReal:<-20}\\n {cotacaoDolar:<-20}\")\n"
   ]
  },
  {
   "cell_type": "markdown",
   "metadata": {},
   "source": [
    "Uma empresa contrata um encanador a R$ 30,00 por dia. Faça um programa que solicite o número de dias trabalhados pelo encanador e imprima a quantia líquida que deverá se paga, \n",
    "sabendo-se que são descontados 8% para imposto de renda."
   ]
  },
  {
   "cell_type": "code",
   "execution_count": 15,
   "metadata": {},
   "outputs": [
    {
     "name": "stdout",
     "output_type": "stream",
     "text": [
      "O valor a pagar foi de 138.0\n"
     ]
    }
   ],
   "source": [
    "valorDia = 30. \n",
    "numDias = float(input(\"Quantos dias o encanador vai trabalhar: \"))\n",
    "total = valorDia * numDias\n",
    "total -= total * 8/ 100\n",
    "print(f\"O valor a pagar foi de {total}\") "
   ]
  },
  {
   "cell_type": "markdown",
   "metadata": {},
   "source": [
    "Considere que os valores (inteiros e positivos) para as variáveis a, b e c correspondem aos lados de um triângulo retângulo com catetos a e b, e hipotenusa c.\n",
    " Determinar a área do triângulo pela fórmula:"
   ]
  },
  {
   "cell_type": "code",
   "execution_count": 20,
   "metadata": {},
   "outputs": [
    {
     "name": "stdout",
     "output_type": "stream",
     "text": [
      "O valor da area é 14.696938456699069\n"
     ]
    }
   ],
   "source": [
    "from math import sqrt\n",
    "\n",
    "ladoA = float(input(\"Valor lado A: \"))\n",
    "ladoB = float(input(\"Valor do lado B: \"))\n",
    "ladoC= float(input(\"Valor do lado c: \"))\n",
    "\n",
    "s = (ladoA + ladoB + ladoC)/2\n",
    "area = s * (s - ladoA) * (s-ladoB) * (s-ladoC)\n",
    "area = sqrt(area)\n",
    "\n",
    "print(f\"O valor da area é {area:}\")"
   ]
  },
  {
   "cell_type": "markdown",
   "metadata": {},
   "source": [
    "Escreva um programa que, dados dois números inteiros, mostre na tela o maior deles, assim como a diferença existente entre ambos."
   ]
  },
  {
   "cell_type": "code",
   "execution_count": 21,
   "metadata": {},
   "outputs": [
    {
     "name": "stdout",
     "output_type": "stream",
     "text": [
      "O numero 2 é maior que o numero 1\n",
      "e a diferença entre eles é de 5\n"
     ]
    }
   ],
   "source": [
    "num1 = int(input(\"Numero 1: \"))\n",
    "num2 = int(input(\"Numero 2: \"))\n",
    "\n",
    "if(num1 < num2) :\n",
    "    print(\"O numero 2 é maior que o numero 1\\ne a diferença entre eles é de %d\" %(num2-num1))\n",
    "\n",
    "else :\n",
    "    print(\"O numero 1 é maior que o numero 2e a diferença entre eles é de %d\" %(num1-num2))"
   ]
  },
  {
   "cell_type": "markdown",
   "metadata": {},
   "source": [
    "Considere a seguinte definição de ano bissexto (ano em que o mês de fevereiro tem 29\n",
    "dias):\n",
    "\n",
    "• Um ano não divisível por 100 e divisível por 4 é bissexto;\n",
    "\n",
    "• Um ano divisível por 400 é bissexto;\n",
    "\n",
    "• Os demais anos não são bissextos.\n",
    "\n",
    "Escreva um programa que leia um ano do usuário e imprime se aquele é um ano bissexto."
   ]
  },
  {
   "cell_type": "code",
   "execution_count": 22,
   "metadata": {},
   "outputs": [
    {
     "name": "stdout",
     "output_type": "stream",
     "text": [
      "O ano 2000 é bissexto!!\n"
     ]
    }
   ],
   "source": [
    "ano = int(input(\"Informe um ano: \"))\n",
    "\n",
    "if(ano % 400 == 0) :\n",
    "    print(f\"O ano {ano} é bissexto!!\")\n",
    "else :\n",
    "    print(f\"O ano  {ano} não é bissexto\")\n",
    "    "
   ]
  },
  {
   "cell_type": "markdown",
   "metadata": {},
   "source": [
    "Faça um programa para verificar se um determinado número inteiro é divisível por 3 ou por 5, mas não simultaneamente pelos dois."
   ]
  },
  {
   "cell_type": "code",
   "execution_count": 24,
   "metadata": {},
   "outputs": [
    {
     "name": "stdout",
     "output_type": "stream",
     "text": [
      "divisivel por 5\n"
     ]
    }
   ],
   "source": [
    "numero = int(input(\"Informe o numero: \"))\n",
    "\n",
    "if(numero %3 ==0):\n",
    "    print(\"divisivel por 3\")\n",
    "elif(numero % 5 == 0):\n",
    "    print(\"divisivel por 5\")"
   ]
  },
  {
   "cell_type": "markdown",
   "metadata": {},
   "source": [
    "Leia a idade, o sexo (M ou F) e o tempo de serviço de um trabalhador e escreva se ele\n",
    "pode ou não se aposentar. As condições para aposentadoria são:\n",
    "\n",
    "• Para mulheres ter mais de 60 anos. Para homens, 65.\n",
    "\n",
    "• Ou ter trabalhado pelo menos 30 anos\n",
    "\n",
    "• Ou ter 60 anos e trabalhado pelo menos 25."
   ]
  },
  {
   "cell_type": "code",
   "execution_count": 25,
   "metadata": {},
   "outputs": [
    {
     "name": "stdout",
     "output_type": "stream",
     "text": [
      "Pode aposentar!!\n"
     ]
    }
   ],
   "source": [
    "idade = int(input(\"idade: \"))\n",
    "sexo = str(input(\"sexo: \"))\n",
    "tempoServico = int(input(\"Termpo de Serviço: \"))\n",
    "\n",
    "condicoes = (sexo == 'M' and idade <= 65) or (sexo == 'F' and idade <= 60) or (tempoServico <= 30) or (idade <= 60 and tempoServico <=25)\n",
    "\n",
    "if(condicoes):\n",
    "    print(\"Pode aposentar!!\")\n",
    "else:\n",
    "    print(\"Não aposenta\")\n"
   ]
  },
  {
   "cell_type": "markdown",
   "metadata": {},
   "source": [
    "Faça um programa que receba a altura e o peso de uma pessoa. De acordo com a tabela a seguir, verifique e mostre qual a classificação dessa pessoa."
   ]
  },
  {
   "cell_type": "code",
   "execution_count": 26,
   "metadata": {},
   "outputs": [
    {
     "name": "stdout",
     "output_type": "stream",
     "text": [
      "E\n"
     ]
    }
   ],
   "source": [
    "altura = float(input(\"Informe a altura: \"))\n",
    "peso = float(input(\"Informe o peso: \"))\n",
    "\n",
    "if(altura < 1.50):\n",
    "    if(peso < 60):\n",
    "        print(\"A\")\n",
    "    elif(peso >= 60 and peso <= 90):\n",
    "        print(\"D\")\n",
    "    elif(peso > 90):\n",
    "        print(\"G\")\n",
    "elif(altura >= 1.50 and altura <= 1.80):\n",
    "    if(peso < 60):\n",
    "        print(\"B\")\n",
    "    elif(peso >= 60 and peso <= 90):\n",
    "        print(\"E\")\n",
    "    elif(peso > 90):\n",
    "        print(\"H\")\n",
    "elif(altura > 1.80):\n",
    "    if(peso < 60):\n",
    "        print(\"C\")\n",
    "    elif(peso >= 60 and peso <= 90):\n",
    "        print(\"F\")\n",
    "    elif(peso > 90):\n",
    "        print(\"I\")"
   ]
  },
  {
   "cell_type": "markdown",
   "metadata": {},
   "source": [
    "Faça um menu que apresente quatro opções de média (Geométrica, Ponderada, Harmônica e Aritmética). Após o usuário selecionar a média desejada, solicite três números inteiros positivos e apresente o cálculo da média solicitada."
   ]
  },
  {
   "cell_type": "code",
   "execution_count": 27,
   "metadata": {},
   "outputs": [
    {
     "name": "stdout",
     "output_type": "stream",
     "text": [
      "O resultado é  20.0\n"
     ]
    }
   ],
   "source": [
    "escolha = int(input(\"1 - Geométrica\\n2 - Ponderada\\n3 - Harmõnica\\n4 - Aritmética\\nescolha:\"))\n",
    "\n",
    "num1 = float(input(\"Valor 1: \"))\n",
    "num2 = float(input(\"Valor 2: \"))\n",
    "num3 = float(input(\"Valor 3: \"))\n",
    "\n",
    "if(escolha == 1):\n",
    "    resultado = sqrt(num1 * num2 * num3)\n",
    "    print(f\"O resultado é  {resultado}\")\n",
    "elif(escolha == 2):\n",
    "    resultado = (num1+2 * num2+3 * num3)/6\n",
    "    print(f\"O resultado é  {resultado}\")\n",
    "elif(escolha == 3):\n",
    "    resultado = 1/((1/num1) + (1/num2) + (1/num3))\n",
    "    print(f\"O resultado é  {resultado}\")\n",
    "elif(escolha == 4):\n",
    "    resultado = (num1+num2+num3)/3\n",
    "    print(f\"O resultado é  {resultado}\")\n",
    "else: print(\"Escolha invalida\")"
   ]
  },
  {
   "cell_type": "markdown",
   "metadata": {},
   "source": [
    "Escreva um programa para cálculo do máximo divisor comum (MDC) entre dois números."
   ]
  },
  {
   "cell_type": "code",
   "execution_count": 1,
   "metadata": {},
   "outputs": [
    {
     "name": "stdout",
     "output_type": "stream",
     "text": [
      "mdc é: 5\n"
     ]
    }
   ],
   "source": [
    "num1 = float(input('Digite num1: '))\n",
    "num2 = float(input('Digite num2: '))\n",
    "\n",
    "mdc = 1\n",
    "\n",
    "menorNumero = int(num1 if num1 < num2 else num2)\n",
    "\n",
    "for x in range(1, menorNumero):\n",
    "  if(num1%x==0 and num2%x==0):\n",
    "    mdc = x\n",
    "  else:\n",
    "    continue\n",
    "\n",
    "print(f\"mdc é: {mdc}\")"
   ]
  },
  {
   "cell_type": "markdown",
   "metadata": {},
   "source": [
    "Escreva um programa que leia dois inteiros N e M, e imprima todos os números ímpares maiores que N e menores que M."
   ]
  },
  {
   "cell_type": "code",
   "execution_count": 3,
   "metadata": {},
   "outputs": [
    {
     "name": "stdout",
     "output_type": "stream",
     "text": [
      "1\n",
      "3\n",
      "5\n",
      "7\n",
      "9\n"
     ]
    }
   ],
   "source": [
    "num1 = int(input('Digite num1: '))\n",
    "num2 = int(input('Digite num2: '))\n",
    "\n",
    "if num1 < num2:\n",
    "  for x in range(num1, num2):\n",
    "    if(x % 2 != 0):\n",
    "      print(x)\n",
    "    else:\n",
    "      continue"
   ]
  },
  {
   "cell_type": "markdown",
   "metadata": {},
   "source": [
    "Escreva um programa que leia um número positivo N e imprima N linhas do triângulo ordenado. Um triângulo ordenado pode ser visto abaixo, para o caso N = 6."
   ]
  },
  {
   "cell_type": "code",
   "execution_count": 4,
   "metadata": {},
   "outputs": [
    {
     "name": "stdout",
     "output_type": "stream",
     "text": [
      "1 \n",
      "2 3 \n",
      "4 5 6 \n",
      "7 8 9 10 \n",
      "11 12 13 14 15 \n",
      "16 17 18 19 20 21 \n",
      "22 23 24 25 26 27 28 \n",
      "29 30 31 32 33 34 35 36 \n",
      "37 38 39 40 41 42 43 44 45 \n",
      "46 47 48 49 50 51 52 53 54 55 \n"
     ]
    }
   ],
   "source": [
    "num1 = abs(int(input('Digite num1: ')))\n",
    "\n",
    "valor = 1\n",
    "\n",
    "for x in range(1, num1+1):\n",
    "  linha = ''\n",
    "  for y in range(0, x):\n",
    "    linha += str(valor) + ' '\n",
    "    valor+=1\n",
    "  print(linha)"
   ]
  },
  {
   "cell_type": "markdown",
   "metadata": {},
   "source": [
    "Uma empreiteira paga seus pedreiros por metros quadrados de serviços produzidos\n",
    "diariamente, adicionando também o valor do almoço e passagem para irem e voltar do\n",
    "trabalho. Essa construtora procurou você para desenvolver um sistema que calcula quanto\n",
    "ela deve pagar para cada um de seus pedreiros. Apresente um programa que resolva o\n",
    "problema citado. O programa deverá receber:"
   ]
  },
  {
   "cell_type": "code",
   "execution_count": 5,
   "metadata": {},
   "outputs": [
    {
     "name": "stdout",
     "output_type": "stream",
     "text": [
      "O pedreiro deve receber R$10600.0\n"
     ]
    }
   ],
   "source": [
    "vale = float(input('Digite o valor do vale: '))\n",
    "transporte = float(input('Digite o valor do transporte: '))\n",
    "metros = float(input('Digite quantos metros quadrados foram feitos: '))\n",
    "dias = float(input('Digite quantos dias foram trabalhados: '))\n",
    "\n",
    "if metros < 10:\n",
    "    valorMetro = 10\n",
    "elif metros >= 10 and metros <= 20:\n",
    "    valorMetro = 11.5 \n",
    "else: \n",
    "    13.0\n",
    "\n",
    "print(f'O pedreiro deve receber R${(vale + (2 * transporte) + (metros * valorMetro)) * dias}')"
   ]
  },
  {
   "cell_type": "markdown",
   "metadata": {},
   "source": [
    "Escreva um programa que retorna a soma dos termos de uma Progressão Aritmética de n termos, com termo inicial a razão real r. Peça os valores do usuário."
   ]
  },
  {
   "cell_type": "code",
   "execution_count": 6,
   "metadata": {},
   "outputs": [
    {
     "name": "stdout",
     "output_type": "stream",
     "text": [
      "110.0000\n"
     ]
    }
   ],
   "source": [
    "termos = int(input('Digite quantos termos terá: '))\n",
    "inicial = int(input('Digite o valor inicial: '))\n",
    "razao = float(input('Digite quantos razao: '))\n",
    "\n",
    "sum = 0\n",
    "termoAtual = inicial\n",
    "i = 0\n",
    "\n",
    "while i < termos:\n",
    "  sum += termoAtual\n",
    "  termoAtual += razao\n",
    "  i += 1\n",
    "\n",
    "print(f'{sum:.4f}')"
   ]
  },
  {
   "cell_type": "markdown",
   "metadata": {},
   "source": [
    "Escreva um programa que escreve na tela todos os múltiplos de n entre 0 e x, inclusive, separados por vírgula."
   ]
  },
  {
   "cell_type": "code",
   "execution_count": 2,
   "metadata": {},
   "outputs": [
    {
     "name": "stdout",
     "output_type": "stream",
     "text": [
      "0, 1, 2, 3, 4, 5, 6, 7, 8, 9, 10\n"
     ]
    }
   ],
   "source": [
    "inicio = int(input('Digite o valor inicial: '))\n",
    "fim = int(input('Digite o valor final: '))\n",
    "\n",
    "i = 0\n",
    "sequencia = ''\n",
    "\n",
    "\n",
    "while i <= fim:\n",
    "  sequencia += f'{i}'\n",
    "  i += inicio\n",
    "  sequencia += ', ' if i <= fim else ''\n",
    "\n",
    "print(sequencia)"
   ]
  },
  {
   "cell_type": "markdown",
   "metadata": {},
   "source": []
  },
  {
   "cell_type": "markdown",
   "metadata": {},
   "source": [
    "No mesmo script, escreva funções que realizem as instruções a seguir. No programa principal, escreva um menu que permita ao usuário escolher entre as funções. Retorne ao menu principal ao final de cada execução. Inclua uma opção “Sair” no seu menu, e encerre o programa somente quando o usuário selecionar essa opção."
   ]
  },
  {
   "cell_type": "code",
   "execution_count": null,
   "metadata": {},
   "outputs": [],
   "source": [
    "def primo(num):\n",
    "  if num == 2:\n",
    "    return True\n",
    "  for x in range(2, num-1):\n",
    "    if(num%x==0):\n",
    "      return False\n",
    "  return True\n",
    "\n",
    "\n",
    "# MMC\n",
    "def continueMMC(arr):\n",
    "  for item in arr:\n",
    "    if(item) != 1:\n",
    "      return True\n",
    "  return False\n",
    "\n",
    "def divideArrayPorConstante(arr, const):\n",
    "  itensDividos = 0\n",
    "  for item in arr:\n",
    "    itemIndex = arr.index(item)\n",
    "    if item % const == 0:\n",
    "      arr[itemIndex] /= const\n",
    "      itensDividos += 1\n",
    "\n",
    "  if itensDividos > 0:\n",
    "    return True\n",
    "  else:\n",
    "    return False\n",
    "\n",
    "def aumentaConstante(arr, const):\n",
    "  aumentarConstante = True\n",
    "\n",
    "  for item in arr:\n",
    "    if item % const == 0:\n",
    "      aumentarConstante = False\n",
    "      break\n",
    "\n",
    "  if aumentarConstante:\n",
    "    const += 1\n",
    "    while not primo(const):\n",
    "      const += 1\n",
    "\n",
    "  return const\n",
    "\n",
    "\n",
    "def mmc(args):\n",
    "  arr = []\n",
    "\n",
    "  for x in args:\n",
    "    arr.append(x)\n",
    "\n",
    "  primoAtual = 2\n",
    "  mmc = 0\n",
    "\n",
    "\n",
    "  while continueMMC(arr):\n",
    "    dividiu = divideArrayPorConstante(arr, primoAtual)\n",
    "\n",
    "    mmc = primoAtual if dividiu and mmc == 0 else mmc if not dividiu else mmc * primoAtual\n",
    "    primoAtual = aumentaConstante(arr, primoAtual)\n",
    "\n",
    "  return mmc\n",
    "\n",
    "# Soma Digito\n",
    "def somaDigito(num):\n",
    "  soma = 0\n",
    "\n",
    "  while num >= 10:\n",
    "    soma += num % 10\n",
    "    num = int(num/10)\n",
    "  soma += num\n",
    "  return soma\n",
    "\n",
    "# n Primo\n",
    "def nPrimo(n):\n",
    "  i = 1\n",
    "  valor = 2\n",
    "\n",
    "  while i < n:\n",
    "    valor += 1\n",
    "    while not primo(valor):\n",
    "      valor += 1\n",
    "    i += 1\n",
    "  return valor\n",
    "\n",
    "\n",
    "# Hora\n",
    "def hora(h, m, s):\n",
    "  s += 1\n",
    "  m += int(s / 60)\n",
    "  h += int(m / 60)\n",
    "  s = s % 60\n",
    "  m = m % 60\n",
    "  print(f'{h:02d}:{m:02d}:{s:02d}')\n",
    "\n",
    "\n",
    "\n",
    "# Menu\n",
    "def menu():\n",
    "  escolha = 1\n",
    "  while escolha != 0:\n",
    "    print('Escolha uma das seguintes opções:')\n",
    "    print('[1] - Primo')\n",
    "    print('[2] - MMC')\n",
    "    print('[3] - Soma Digito')\n",
    "    print('[4] - N-ésimo primo')\n",
    "    print('[5] - Hora')\n",
    "    print('[0] - Sair')\n",
    "    escolha = int(input('Digite a sua escolha: '))\n",
    "\n",
    "    if escolha == 1:\n",
    "      valor = int(input('Digite um primo: '))\n",
    "      print(f'{valor} {\"não é\" if not primo(valor) else \"é\"} primo')\n",
    "\n",
    "    elif escolha == 2:\n",
    "      print('Digite 1 valor e aperte enter (para parar aperte enter apenas)')\n",
    "      valor = 1\n",
    "      array = []\n",
    "      while valor != '':\n",
    "        valor = input('Digite um valor: ')\n",
    "        if valor != '':\n",
    "          array.append(int(valor))\n",
    "      print(f'MMC: {mmc(array)}')\n",
    "\n",
    "    elif escolha == 3:\n",
    "      valor = int(input(\"Digite um valor: \"))\n",
    "      print(f'A soma dos digitos: {somaDigito(valor)}')\n",
    "\n",
    "    elif escolha == 4:\n",
    "      valor = int(input(\"Digite um valor: \"))\n",
    "      print(f'Primo nessa posição: {nPrimo(valor)}')\n",
    "\n",
    "    elif escolha == 5:\n",
    "      hour = int(input(\"Digite a hora: \"))\n",
    "      minuto = int(input(\"Digite a minuto: \"))\n",
    "      segundo = int(input(\"Digite a segundo: \"))\n",
    "\n",
    "      print(f'Hora mais 1 seg: {hora(hour, minuto, segundo)}')\n",
    "\n",
    "menu()"
   ]
  }
 ],
 "metadata": {
  "interpreter": {
   "hash": "916dbcbb3f70747c44a77c7bcd40155683ae19c65e1c03b4aa3499c5328201f1"
  },
  "kernelspec": {
   "display_name": "Python 3.10.6 64-bit",
   "language": "python",
   "name": "python3"
  },
  "language_info": {
   "codemirror_mode": {
    "name": "ipython",
    "version": 3
   },
   "file_extension": ".py",
   "mimetype": "text/x-python",
   "name": "python",
   "nbconvert_exporter": "python",
   "pygments_lexer": "ipython3",
   "version": "3.10.6"
  },
  "orig_nbformat": 4
 },
 "nbformat": 4,
 "nbformat_minor": 2
}
